{
 "cells": [
  {
   "cell_type": "code",
   "execution_count": 1,
   "metadata": {},
   "outputs": [
    {
     "name": "stderr",
     "output_type": "stream",
     "text": [
      "C:\\Anaconda3\\envs\\tensorflow-gpu\\lib\\site-packages\\h5py\\__init__.py:36: FutureWarning: Conversion of the second argument of issubdtype from `float` to `np.floating` is deprecated. In future, it will be treated as `np.float64 == np.dtype(float).type`.\n",
      "  from ._conv import register_converters as _register_converters\n"
     ]
    },
    {
     "name": "stdout",
     "output_type": "stream",
     "text": [
      "---------\n",
      "Variables: name (type shape) [size]\n",
      "---------\n",
      "generator/g_h0_lin/Matrix:0 (float32_ref 100x14336) [1433600, bytes: 5734400]\n",
      "generator/g_h0_lin/bias:0 (float32_ref 14336) [14336, bytes: 57344]\n",
      "generator/g_bn0/beta:0 (float32_ref 512) [512, bytes: 2048]\n",
      "generator/g_bn0/gamma:0 (float32_ref 512) [512, bytes: 2048]\n",
      "generator/g_h1/w:0 (float32_ref 5x5x256x512) [3276800, bytes: 13107200]\n",
      "generator/g_h1/biases:0 (float32_ref 256) [256, bytes: 1024]\n",
      "generator/g_bn1/beta:0 (float32_ref 256) [256, bytes: 1024]\n",
      "generator/g_bn1/gamma:0 (float32_ref 256) [256, bytes: 1024]\n",
      "generator/g_h2/w:0 (float32_ref 5x5x128x256) [819200, bytes: 3276800]\n",
      "generator/g_h2/biases:0 (float32_ref 128) [128, bytes: 512]\n",
      "generator/g_bn2/beta:0 (float32_ref 128) [128, bytes: 512]\n",
      "generator/g_bn2/gamma:0 (float32_ref 128) [128, bytes: 512]\n",
      "generator/g_h3/w:0 (float32_ref 5x5x64x128) [204800, bytes: 819200]\n",
      "generator/g_h3/biases:0 (float32_ref 64) [64, bytes: 256]\n",
      "generator/g_bn3/beta:0 (float32_ref 64) [64, bytes: 256]\n",
      "generator/g_bn3/gamma:0 (float32_ref 64) [64, bytes: 256]\n",
      "generator/g_h4/w:0 (float32_ref 5x5x3x64) [4800, bytes: 19200]\n",
      "generator/g_h4/biases:0 (float32_ref 3) [3, bytes: 12]\n",
      "discriminator/d_h0_conv/w:0 (float32_ref 5x5x3x64) [4800, bytes: 19200]\n",
      "discriminator/d_h0_conv/biases:0 (float32_ref 64) [64, bytes: 256]\n",
      "discriminator/d_h1_conv/w:0 (float32_ref 5x5x64x128) [204800, bytes: 819200]\n",
      "discriminator/d_h1_conv/biases:0 (float32_ref 128) [128, bytes: 512]\n",
      "discriminator/d_bn1/beta:0 (float32_ref 128) [128, bytes: 512]\n",
      "discriminator/d_bn1/gamma:0 (float32_ref 128) [128, bytes: 512]\n",
      "discriminator/d_h2_conv/w:0 (float32_ref 5x5x128x256) [819200, bytes: 3276800]\n",
      "discriminator/d_h2_conv/biases:0 (float32_ref 256) [256, bytes: 1024]\n",
      "discriminator/d_bn2/beta:0 (float32_ref 256) [256, bytes: 1024]\n",
      "discriminator/d_bn2/gamma:0 (float32_ref 256) [256, bytes: 1024]\n",
      "discriminator/d_h3_conv/w:0 (float32_ref 5x5x256x512) [3276800, bytes: 13107200]\n",
      "discriminator/d_h3_conv/biases:0 (float32_ref 512) [512, bytes: 2048]\n",
      "discriminator/d_bn3/beta:0 (float32_ref 512) [512, bytes: 2048]\n",
      "discriminator/d_bn3/gamma:0 (float32_ref 512) [512, bytes: 2048]\n",
      "discriminator/d_h4_lin/Matrix:0 (float32_ref 14336x1) [14336, bytes: 57344]\n",
      "discriminator/d_h4_lin/bias:0 (float32_ref 1) [1, bytes: 4]\n",
      "Total size of variables: 10078596\n",
      "Total bytes of variables: 40314384\n",
      " [*] Reading checkpoints...\n",
      " [*] Failed to find a checkpoint\n",
      " [!] Load failed...\n",
      "Epoch: [ 0] [   0/   6] time: 5.3640, d_loss: 9.07470512, g_loss: 0.00017875\n",
      "Epoch: [ 0] [   1/   6] time: 7.7734, d_loss: 10.52473831, g_loss: 0.00004357\n",
      "Epoch: [ 0] [   2/   6] time: 8.5802, d_loss: 9.97472572, g_loss: 0.00006590\n",
      "Epoch: [ 0] [   3/   6] time: 9.3661, d_loss: 8.13634777, g_loss: 0.00099246\n",
      "Epoch: [ 0] [   4/   6] time: 10.1470, d_loss: 8.06832027, g_loss: 0.00047049\n",
      "Epoch: [ 0] [   5/   6] time: 10.9299, d_loss: 2.61517239, g_loss: 0.15623596\n"
     ]
    },
    {
     "ename": "SystemExit",
     "evalue": "",
     "output_type": "error",
     "traceback": [
      "An exception has occurred, use %tb to see the full traceback.\n",
      "\u001b[1;31mSystemExit\u001b[0m\n"
     ]
    },
    {
     "name": "stderr",
     "output_type": "stream",
     "text": [
      "C:\\Anaconda3\\envs\\tensorflow-gpu\\lib\\site-packages\\IPython\\core\\interactiveshell.py:2971: UserWarning: To exit: use 'exit', 'quit', or Ctrl-D.\n",
      "  warn(\"To exit: use 'exit', 'quit', or Ctrl-D.\", stacklevel=1)\n"
     ]
    }
   ],
   "source": [
    "import os\n",
    "import scipy.misc\n",
    "import numpy as np\n",
    "from model import DCGAN\n",
    "from utils import pp, visualize, to_json, show_all_variables\n",
    "import tensorflow as tf\n",
    "flags = tf.app.flags\n",
    "flags.DEFINE_integer(\"epoch\", 1,\"epoch\")\n",
    "flags.DEFINE_float(\"learning_rate\", 0.0002,\"learning_rate\")\n",
    "flags.DEFINE_float(\"beta1\", 0.5,\"beta1\")\n",
    "flags.DEFINE_float(\"train_size\", np.inf,\"train_size\")\n",
    "flags.DEFINE_integer(\"batch_size\", 32,\"batch_size\")\n",
    "flags.DEFINE_integer(\"input_height\", 112,\"input_height\")\n",
    "flags.DEFINE_integer(\"input_width\", 200,\"input_width\")\n",
    "flags.DEFINE_integer(\"output_height\", 56,\"output_height\")\n",
    "flags.DEFINE_integer(\"output_width\", 100,\"output_width\")\n",
    "flags.DEFINE_string(\"dataset\", \"Billiard ball\",\"dataset\")\n",
    "flags.DEFINE_string(\"input_fname_pattern\", \"*.png\",\"input_fname_pattern\")\n",
    "flags.DEFINE_string(\"checkpoint_dir\", \"traindata\",\"checkpoint_dir\")\n",
    "flags.DEFINE_string(\"sample_dir\", \"output_image\",\"sample_dir\")\n",
    "flags.DEFINE_boolean(\"train\", True,\"train\")\n",
    "flags.DEFINE_boolean(\"crop\", True,\"crop\")\n",
    "flags.DEFINE_boolean(\"visualize\", False,\"visualize\")\n",
    "FLAGS = flags.FLAGS\n",
    "def main(_):\n",
    "  run_config = tf.ConfigProto()\n",
    "  run_config.gpu_options.allow_growth=True\n",
    "  with tf.Session(config=run_config) as sess:\n",
    "    dcgan = DCGAN(\n",
    "          sess,\n",
    "          input_width=FLAGS.input_width,\n",
    "          input_height=FLAGS.input_height,\n",
    "          output_width=FLAGS.output_width,\n",
    "          output_height=FLAGS.output_height,\n",
    "          batch_size=FLAGS.batch_size,\n",
    "          sample_num=FLAGS.batch_size,\n",
    "          dataset_name=FLAGS.dataset,\n",
    "          input_fname_pattern=FLAGS.input_fname_pattern,\n",
    "          crop=FLAGS.crop,\n",
    "          checkpoint_dir=FLAGS.checkpoint_dir,\n",
    "          sample_dir=FLAGS.sample_dir)\n",
    "    show_all_variables()\n",
    "    if FLAGS.train:\n",
    "      dcgan.train(FLAGS)\n",
    "    else:\n",
    "      if not dcgan.load(FLAGS.checkpoint_dir)[0]:\n",
    "        raise Exception(\"Train a model first\")\n",
    "tf.app.run()\n"
   ]
  },
  {
   "cell_type": "code",
   "execution_count": null,
   "metadata": {},
   "outputs": [],
   "source": []
  },
  {
   "cell_type": "code",
   "execution_count": null,
   "metadata": {},
   "outputs": [],
   "source": []
  },
  {
   "cell_type": "code",
   "execution_count": null,
   "metadata": {},
   "outputs": [],
   "source": []
  },
  {
   "cell_type": "code",
   "execution_count": null,
   "metadata": {},
   "outputs": [],
   "source": []
  }
 ],
 "metadata": {
  "kernelspec": {
   "display_name": "Python 3",
   "language": "python",
   "name": "python3"
  }
 },
 "nbformat": 4,
 "nbformat_minor": 2
}
